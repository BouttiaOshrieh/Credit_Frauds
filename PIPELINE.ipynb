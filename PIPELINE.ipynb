{
 "metadata": {
  "kernelspec": {
   "display_name": "Streamlit Notebook",
   "name": "streamlit"
  },
  "lastEditStatus": {
   "notebookId": "qchu4iim4d6rdxavs4or",
   "authorId": "6978285136533",
   "authorName": "N2",
   "authorEmail": "narcissa.hf@gmail.com",
   "sessionId": "d0347830-7411-42e9-9004-ba8939196d6a",
   "lastEditTime": 1740709390181
  }
 },
 "nbformat_minor": 5,
 "nbformat": 4,
 "cells": [
  {
   "cell_type": "code",
   "id": "3775908f-ca36-4846-8f38-5adca39217f2",
   "metadata": {
    "language": "python",
    "name": "cell1",
    "collapsed": false
   },
   "source": [
    "\n",
    "from snowflake.snowpark import Session\n",
    "from snowflake.snowpark.functions import col, length, lit, concat, to_timestamp\n",
    "from snowflake.snowpark.types import (\n",
    "    StructType, StructField, IntegerType, DoubleType, StringType, \n",
    "    TimestampType, DateType, LongType, FloatType\n",
    ")\n",
    "from snowflake.snowpark import functions as F\n",
    "from snowflake.snowpark.window import Window\n",
    "\n",
    "\n",
    "from snowflake.snowpark.context import get_active_session\n",
    "session = get_active_session()\n"
   ],
   "execution_count": null,
   "outputs": []
  },
  {
   "cell_type": "code",
   "id": "7f5633f2-6128-42f6-b5c3-82c58abd7fcd",
   "metadata": {
    "language": "python",
    "name": "cell5",
    "collapsed": false
   },
   "outputs": [],
   "source": [
    "\n",
    "session.use_warehouse(\"COMPUTE_WH\")\n",
    "credits_csv_file = \"@MY_GCS_STAGE/credit_card_fraud.csv\"\n",
    "\n",
    "\n",
    "df = session.read.option(\"FIELD_DELIMITER\", \",\").csv(credits_csv_file)\n",
    "df.printSchema()"
   ],
   "execution_count": null
  },
  {
   "cell_type": "markdown",
   "id": "1e2d8381-4973-4cff-9156-7ffa5c678c63",
   "metadata": {
    "name": "cell8",
    "collapsed": false
   },
   "source": [
    "Data Type Transformations"
   ]
  },
  {
   "cell_type": "code",
   "id": "1bb1af3f-777b-40bc-aaa0-e075008e8e05",
   "metadata": {
    "language": "python",
    "name": "cell2",
    "collapsed": false,
    "codeCollapsed": false
   },
   "outputs": [],
   "source": [
    "# Define schema\n",
    "schema = StructType([\n",
    "    StructField(\"_c0\", IntegerType(), True),\n",
    "    StructField(\"ssn\", StringType(), True),\n",
    "    StructField(\"cc_num\", StringType(), True),\n",
    "    StructField(\"first\", StringType(), True),\n",
    "    StructField(\"last\", StringType(), True),\n",
    "    StructField(\"gender\", StringType(), True),\n",
    "    StructField(\"street\", StringType(), True),\n",
    "    StructField(\"city\", StringType(), True),\n",
    "    StructField(\"state\", StringType(), True),\n",
    "    StructField(\"zip\", StringType(), True),\n",
    "    StructField(\"lat\", FloatType(), True),\n",
    "    StructField(\"long\", FloatType(), True),\n",
    "    StructField(\"city_pop\", LongType(), True),\n",
    "    StructField(\"job\", StringType(), True),\n",
    "    StructField(\"dob\", DateType(), True),\n",
    "    StructField(\"acct_num\", StringType(), True),\n",
    "    StructField(\"profile\", StringType(), True),\n",
    "    StructField(\"trans_num\", StringType(), True),\n",
    "    StructField(\"trans_date\", StringType(), True),  # Read as string initially\n",
    "    StructField(\"trans_time\", StringType(), True),  # Read as string initially\n",
    "    StructField(\"unix_time\", LongType(), True),\n",
    "    StructField(\"category\", StringType(), True),\n",
    "    StructField(\"amt\", DoubleType(), True),\n",
    "    StructField(\"is_fraud\", IntegerType(), True),\n",
    "    StructField(\"merchant\", StringType(), True),\n",
    "    StructField(\"merch_lat\", DoubleType(), True),\n",
    "    StructField(\"merch_long\", DoubleType(), True)\n",
    "])\n",
    "\n",
    "\n",
    "df = session.read.options({\n",
    "    \"FIELD_OPTIONALLY_ENCLOSED_BY\": '\"',\n",
    "    \"SKIP_HEADER\": 1\n",
    "}).schema(schema).csv(credits_csv_file)\n",
    "\n",
    "df.printSchema()\n",
    "\n",
    "# Concatenating `trans_date` and `trans_time` and convert to Timestamp\n",
    "df = df.with_column(\"trans_time\", to_timestamp(concat(col(\"trans_date\"), lit(\" \"), col(\"trans_time\")), \"YYYY-MM-DD HH24:MI:SS\"))\n",
    "\n",
    "df.show(5)\n"
   ],
   "execution_count": null
  },
  {
   "cell_type": "code",
   "id": "a7b372a2-57ed-41c5-afc0-959eaf498c22",
   "metadata": {
    "language": "python",
    "name": "cell3",
    "collapsed": false
   },
   "outputs": [],
   "source": [
    "df.count()"
   ],
   "execution_count": null
  },
  {
   "cell_type": "markdown",
   "id": "049be006-11d0-4c8b-9995-c147ac608f7d",
   "metadata": {
    "name": "cell11",
    "collapsed": false
   },
   "source": [
    "Duplicate Check"
   ]
  },
  {
   "cell_type": "code",
   "id": "2b312089-e626-4a57-a8fe-46c6ba75bb0b",
   "metadata": {
    "language": "python",
    "name": "cell12",
    "collapsed": false
   },
   "outputs": [],
   "source": [
    "partition = Window.partition_by(*df.columns)\n",
    "\n",
    "duplicates = df.select(\"*\", F.count(\"*\").over(partition).alias(\"duplicate_records\")) \\\n",
    "                .filter(F.col(\"duplicate_records\") > 1)\n",
    "\n",
    "duplicates.show()"
   ],
   "execution_count": null
  },
  {
   "cell_type": "markdown",
   "id": "168561cd-5213-42dd-9dbf-1a1afca14668",
   "metadata": {
    "name": "cell9",
    "collapsed": false
   },
   "source": [
    "Completeness Check"
   ]
  },
  {
   "cell_type": "code",
   "id": "1cac5d94-1769-4279-9c31-944888402daf",
   "metadata": {
    "language": "python",
    "name": "cell13",
    "collapsed": false
   },
   "outputs": [],
   "source": [
    "total_rows = df.count()\n",
    "completeness_check = df.select(\n",
    "    *[\n",
    "        (F.count(F.when(F.col(c).isNull(), 1)) / total_rows).alias(f\"{c}_null_ratio\")\n",
    "        for c in df.columns\n",
    "    ]\n",
    ")\n",
    "\n",
    "completeness_check.show()"
   ],
   "execution_count": null
  },
  {
   "cell_type": "markdown",
   "id": "3cd8d39e-24d3-45c4-8a32-cb2deb65513c",
   "metadata": {
    "name": "cell6",
    "collapsed": false
   },
   "source": [
    "Length Checks"
   ]
  },
  {
   "cell_type": "code",
   "id": "221e4505-c909-4b70-b8e5-6bc35edfff63",
   "metadata": {
    "language": "python",
    "name": "cell4",
    "collapsed": false
   },
   "outputs": [],
   "source": [
    "def length_check(df, col_name, required_length=None, min_length=None, max_length=None):\n",
    "    if required_length:\n",
    "        return df.filter(length(col(col_name)) == required_length)\n",
    "    elif min_length is not None and max_length is not None:\n",
    "        return df.filter(length(col(col_name)).between(min_length, max_length))\n",
    "    else:\n",
    "        return df\n",
    "\n",
    "df_new = length_check(df, 'cc_num', required_length=16)\n",
    "df_new = length_check(df_new, 'ssn', required_length=11)\n",
    "df_new = length_check(df_new, 'acct_num', min_length=8, max_length=12)\n",
    "\n",
    "df_new.show(5)\n"
   ],
   "execution_count": null
  },
  {
   "cell_type": "code",
   "id": "5a10a291-5305-4547-9944-4281e483f9ed",
   "metadata": {
    "language": "python",
    "name": "cell7",
    "collapsed": false
   },
   "outputs": [],
   "source": [
    "df_new.count()"
   ],
   "execution_count": null
  },
  {
   "cell_type": "code",
   "id": "455a845d-244e-43be-818e-ab6e12a28e5e",
   "metadata": {
    "language": "python",
    "name": "cell10"
   },
   "outputs": [],
   "source": [
    "df_new.write.mode(\"append\").save_as_table(\"CREDIT_CARD_FRAUD_INTERNAL\")\n"
   ],
   "execution_count": null
  },
  {
   "cell_type": "code",
   "id": "cf6cc771-752f-4b37-bd58-fe095bb1d54f",
   "metadata": {
    "language": "python",
    "name": "cell14"
   },
   "outputs": [],
   "source": [
    "df.schema[\"your_column\"].datatype"
   ],
   "execution_count": null
  },
  {
   "cell_type": "code",
   "id": "ba8717cb-34dd-40c1-8f7c-fee46c85af33",
   "metadata": {
    "language": "python",
    "name": "cell15"
   },
   "outputs": [],
   "source": [],
   "execution_count": null
  }
 ]
}
